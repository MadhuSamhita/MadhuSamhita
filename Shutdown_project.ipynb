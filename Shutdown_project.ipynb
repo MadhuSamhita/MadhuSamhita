{
  "nbformat": 4,
  "nbformat_minor": 0,
  "metadata": {
    "colab": {
      "provenance": [],
      "authorship_tag": "ABX9TyN4hi+FAaK24M/WHRRsgbog",
      "include_colab_link": true
    },
    "kernelspec": {
      "name": "python3",
      "display_name": "Python 3"
    },
    "language_info": {
      "name": "python"
    }
  },
  "cells": [
    {
      "cell_type": "markdown",
      "metadata": {
        "id": "view-in-github",
        "colab_type": "text"
      },
      "source": [
        "<a href=\"https://colab.research.google.com/github/MadhuSamhita/MadhuSamhita/blob/main/Shutdown_project.ipynb\" target=\"_parent\"><img src=\"https://colab.research.google.com/assets/colab-badge.svg\" alt=\"Open In Colab\"/></a>"
      ]
    },
    {
      "cell_type": "code",
      "source": [
        "import os"
      ],
      "metadata": {
        "id": "Q9XxT_bB_uvZ"
      },
      "execution_count": 15,
      "outputs": []
    },
    {
      "cell_type": "code",
      "source": [
        "def shutdown():\n",
        "  if os.name == \"nt\":\n",
        "    os.system(\"shutdown /s /t 0\")\n",
        "  elif os.name == \"posix\":\n",
        "    os.system(\"sudo shutdown now\")\n",
        "  else:\n",
        "    print(\"Sorry, your os is not supported for shutdown.\\n\")\n",
        "    return"
      ],
      "metadata": {
        "id": "rFlHi96uA2i4"
      },
      "execution_count": 16,
      "outputs": []
    },
    {
      "cell_type": "code",
      "source": [
        "def restart():\n",
        "  if os.name == \"nt\":\n",
        "    os.system(\"shutdown /r /t 0\")\n",
        "  elif os.name == \"posix\":\n",
        "    os.system(\"sudo reboot\")\n",
        "  else:\n",
        "    print(\"Sorry, your os is not supported for restart.\\n\")"
      ],
      "metadata": {
        "id": "1IUWAqBHBihy"
      },
      "execution_count": 17,
      "outputs": []
    },
    {
      "cell_type": "code",
      "source": [
        "if __name__ == \"__main__\":\n",
        "  print(\"SHUTDOWN PROJECT\\n\")\n",
        "  print(\"1. Shutdown the system.\\n\")\n",
        "  print(\"2. Restart the system.\\n\")\n",
        "  choice = input(\"Enter 1 or 2 as per your choice.\\n\")\n",
        "  if choice == \"1\":\n",
        "    shutdown()\n",
        "  elif choice ==\"2\":\n",
        "    restart()\n",
        "  else:\n",
        "    print(\"Invalid choice! Try again with 1 or 2.\")"
      ],
      "metadata": {
        "colab": {
          "base_uri": "https://localhost:8080/"
        },
        "id": "ohEGRu4RCFvl",
        "outputId": "712f316a-e31e-4be5-da37-71991fa0944b"
      },
      "execution_count": 18,
      "outputs": [
        {
          "name": "stdout",
          "output_type": "stream",
          "text": [
            "SHUTDOWN PROJECT\n",
            "\n",
            "1. Shutdown the system.\n",
            "\n",
            "2. Restart the system.\n",
            "\n",
            "Enter 1 or 2 as per your choice.\n",
            "1\n"
          ]
        }
      ]
    },
    {
      "cell_type": "code",
      "source": [],
      "metadata": {
        "id": "-Cxm5QlhDAcb"
      },
      "execution_count": null,
      "outputs": []
    }
  ]
}